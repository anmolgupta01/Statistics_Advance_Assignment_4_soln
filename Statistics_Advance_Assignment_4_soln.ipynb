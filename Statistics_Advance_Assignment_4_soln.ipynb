{
 "cells": [
  {
   "cell_type": "markdown",
   "id": "e4a5db8e",
   "metadata": {},
   "source": [
    "# Q1: What is the difference between a t-test and a z-test? Provide an example scenario where you would use each type of test."
   ]
  },
  {
   "cell_type": "markdown",
   "id": "c2f59e17",
   "metadata": {},
   "source": [
    "A t-test and a z-test are both statistical hypothesis tests used to make inferences about population parameters based on sample data. However, they are used in slightly different situations due to differences in assumptions about the population and sample size. Here are the key differences and example scenarios for each test:\n",
    "\n",
    "Z-Test:\n",
    "\n",
    "Population Standard Deviation Known: A z-test is used when you know the population standard deviation (σ) and are testing a sample mean (x̄) against a known population mean (μ).\n",
    "Sample Size: Z-tests are typically used when the sample size is large (usually n > 30), as they rely on the Central Limit Theorem, which states that the distribution of sample means becomes approximately normal regardless of the population distribution when the sample size is sufficiently large.\n",
    "Example Scenario: Imagine you are a quality control manager in a factory that produces light bulbs. You know from historical data that the population standard deviation of the bulb lifetimes is σ = 100 hours. You want to test whether a new manufacturing process has improved bulb lifetimes, and you take a sample of 50 bulbs, calculate their mean lifetime (x̄), and want to determine if it is significantly different from the old mean lifetime (μ = 800 hours). You would use a z-test in this case.\n",
    "\n",
    "T-Test:\n",
    "\n",
    "Population Standard Deviation Unknown: A t-test is used when you do not know the population standard deviation (σ) and are testing a sample mean (x̄) against a hypothesized population mean (μ).\n",
    "Sample Size: T-tests are typically used when the sample size is small (usually n < 30) or when the population standard deviation is unknown.\n",
    "Example Scenario: Let's say you are a researcher studying the heights of a new species of plants. You collect a sample of 20 plants, measure their heights, and want to test if the average height of these plants is different from a standard height of 30 cm (μ = 30 cm). Since you don't know the population standard deviation for this new species, you would use a t-test."
   ]
  },
  {
   "cell_type": "markdown",
   "id": "4c6bd049",
   "metadata": {},
   "source": [
    "# Q2: Differentiate between one-tailed and two-tailed tests."
   ]
  },
  {
   "cell_type": "markdown",
   "id": "01da3096",
   "metadata": {},
   "source": [
    "One-tailed and two-tailed tests are two types of hypothesis tests used in statistics to make inferences about population parameters. They differ in how they assess the significance of an observed sample statistic in relation to a null hypothesis. Here's the key difference between them:\n",
    "\n",
    "One-Tailed Test:\n",
    "\n",
    "Also known as a \"one-sided test.\"\n",
    "It is used when you are interested in detecting a specific directional effect or change in a population parameter.\n",
    "The critical region (the region of extreme values) is located on only one side of the sampling distribution.\n",
    "It assesses whether the sample statistic is significantly different from the null hypothesis value in one specific direction (either greater than or less than).\n",
    "Example: Imagine you are testing a new drug, and your null hypothesis is that the drug has no effect. You are only interested in determining if the drug improves a certain condition, so you set up a one-tailed test with the alternative hypothesis that the drug's effect is greater than the null hypothesis (e.g., the drug increases recovery rates).\n",
    "\n",
    "Two-Tailed Test:\n",
    "\n",
    "Also known as a \"two-sided test.\"\n",
    "It is used when you want to detect a significant difference in either direction from the null hypothesis value.\n",
    "The critical region is split into two tails, one on each side of the sampling distribution.\n",
    "It assesses whether the sample statistic is significantly different from the null hypothesis value in either direction (greater than or less than).\n",
    "Example: Let's say you are testing a new manufacturing process, and your null hypothesis is that it produces parts with a specific dimension. You want to determine if the process leads to parts that are significantly different from the desired dimension, regardless of whether they are larger or smaller. In this case, you would use a two-tailed test."
   ]
  },
  {
   "cell_type": "markdown",
   "id": "be320fd3",
   "metadata": {},
   "source": [
    "# Q3: Explain the concept of Type 1 and Type 2 errors in hypothesis testing. Provide an example scenario for each type of error."
   ]
  },
  {
   "cell_type": "markdown",
   "id": "918eea70",
   "metadata": {},
   "source": [
    "In hypothesis testing, Type I and Type II errors are two types of mistakes that can occur when making a decision based on a statistical test. These errors are associated with the acceptance or rejection of a null hypothesis. Here's an explanation of each type and an example scenario for each:\n",
    "\n",
    "Type I Error:\n",
    "\n",
    "Definition: A Type I error occurs when you reject a null hypothesis that is actually true. In other words, you conclude that there is a significant effect or difference when, in reality, there is no such effect or difference in the population.\n",
    "Probability of Type I Error: Denoted as α (alpha), the probability of making a Type I error is also called the \"significance level\" or \"alpha level.\" It represents the maximum acceptable probability of wrongly rejecting a true null hypothesis.\n",
    "Example Scenario: Imagine you are conducting a drug efficacy trial, and your null hypothesis is that the new drug has no effect (i.e., it's equivalent to a placebo). However, due to random chance or sampling error, your statistical test suggests a significant improvement in patients' conditions when, in fact, the drug has no real effect. This is a Type I error. Setting a significance level, such as α = 0.05, means you accept a 5% chance of making a Type I error.\n",
    "Type II Error:\n",
    "\n",
    "Definition: A Type II error occurs when you fail to reject a null hypothesis that is actually false. In other words, you conclude that there is no significant effect or difference when, in reality, there is such an effect or difference in the population.\n",
    "Probability of Type II Error: Denoted as β (beta), the probability of making a Type II error is related to the power of a statistical test. Power (1 - β) represents the probability of correctly rejecting a false null hypothesis.\n",
    "Example Scenario: Continuing with the drug trial example, let's say the new drug is genuinely effective, but your statistical test fails to detect the improvement due to a small sample size or other factors. Patients might miss out on a beneficial treatment because of the Type II error. Increasing the sample size or using a more sensitive test can reduce the risk of Type II errors."
   ]
  },
  {
   "cell_type": "markdown",
   "id": "d68502db",
   "metadata": {},
   "source": [
    "# Q4:  Explain Bayes's theorem with an example."
   ]
  },
  {
   "cell_type": "markdown",
   "id": "6e98518d",
   "metadata": {},
   "source": [
    "Bayes's theorem is a fundamental concept in probability theory and statistics that describes how to update the probability of a hypothesis based on new evidence. It provides a way to revise beliefs or probabilities as new information becomes available. The theorem is named after the Reverend Thomas Bayes, an 18th-century statistician and theologian.\n",
    "\n",
    "Bayes's theorem is typically stated as follows:\n",
    "\n",
    "P(A∣B) = P(B∣A)⋅P(A) / P(B)\n",
    "\n",
    "Where:\n",
    "P(A∣B) is the probability of event A occurring given that event B has occurred.\n",
    "P(B∣A) is the probability of event B occurring given that event A has occurred.\n",
    "P(A) is the prior probability of event A, which represents your initial belief in the probability of A before considering any new evidence.\n",
    "P(B) is the probability of event B occurring, which serves as a normalizing constant.\n",
    "\n",
    "Example: Email Spam Detection\n",
    "\n",
    "Suppose you are the developer of an email spam filter. Your goal is to determine whether an incoming email is spam (S) or not spam (NS) based on certain characteristics of the email, such as the words used, the sender's address, and other metadata.\n",
    "\n",
    "You have collected data from past emails and trained a machine learning model to make these predictions. However, your model is not perfect and can make mistakes. You want to use Bayes's theorem to calculate the probability that an email is spam given that it contains the word \"free\" (F).\n",
    "\n",
    "Here are some probabilities you have:\n",
    "P(S): The overall probability that an email is spam, regardless of whether it contains the word \"free.\"\n",
    "\n",
    "P(NS): The overall probability that an email is not spam.\n",
    "\n",
    "P(F∣S): The probability that an email containing the word \"free\" is spam.\n",
    "\n",
    "P(F∣NS): The probability that a non-spam email contains the word \"free.\"\n",
    "\n",
    "Now, you receive an email that contains the word \"free.\" You want to calculate P(S∣F), the probability that the email is spam given this word. then here we can use bayes theoram"
   ]
  },
  {
   "cell_type": "markdown",
   "id": "9cec4ca3",
   "metadata": {},
   "source": [
    "# Q5: What is a confidence interval? How to calculate the confidence interval, explain with an example."
   ]
  },
  {
   "cell_type": "markdown",
   "id": "3d48550b",
   "metadata": {},
   "source": [
    "A confidence interval is a range of values that is calculated from a sample of data and is used to estimate the true population parameter with a certain level of confidence. It provides a measure of the uncertainty or variability associated with estimating a population parameter based on a sample.\n",
    "\n",
    "Here are the key components of a confidence interval:\n",
    "\n",
    "1. **Point Estimate**: This is the sample statistic (e.g., the sample mean or sample proportion) that you use as your best estimate of the population parameter.\n",
    "\n",
    "2. **Margin of Error**: This is the range of values added to and subtracted from the point estimate to create the interval. It quantifies the level of uncertainty in your estimate.\n",
    "\n",
    "3. **Confidence Level**: This is a percentage that represents the probability that the confidence interval contains the true population parameter. Common confidence levels are 90%, 95%, and 99%.\n",
    "\n",
    "The formula for calculating a confidence interval for a population mean (\\( \\mu \\)) is typically expressed as:\n",
    "\n",
    "Confidence Interval = {Point Estimate}-{Margin of Error}\n",
    "\n",
    "The margin of error is calculated based on the standard error of the sample statistic and the critical value from the standard normal distribution (for large samples) or the t-distribution (for small samples).\n",
    "\n",
    "Now, let's illustrate how to calculate a confidence interval with an example:\n",
    "\n",
    "**Example: Confidence Interval for the Mean**\n",
    "\n",
    "Suppose you want to estimate the average height mu of adult males in a city. You take a random sample of 100 adult males and measure their heights. The sample mean height bar{x} is 175 cm, and the sample standard deviation (\\( \\sigma \\)) is 7 cm.\n",
    "\n",
    "You want to calculate a 95% confidence interval for the population mean height.\n",
    "\n",
    "1. **Choose the Confidence Level**: In this case, the confidence level is 95%, which corresponds to a significance level (\\( alpha of 0.05.\n",
    "\n",
    "2. **Calculate the Margin of Error**:\n",
    "   - For a 95% confidence interval and a normal distribution (since your sample size is 100, which is reasonably large), you can use the z-table or a calculator to find the critical z-value. For a 95% confidence interval, the critical z-value is approximately 1.96.\n",
    "   - The margin of error is calculated as:\n",
    "     {Margin of Error} = {Critical Value} \\times \\frac{\\sigma}{\\sqrt{n}}\n",
    "   - Substituting the values:\n",
    "     {Margin of Error} = 1.96 \\times \\frac{7}{\\sqrt{100}} = 1.96 \\times \\frac{7}{10} = 1.372 \\text{ cm} \\]\n",
    "\n",
    "3. **Calculate the Confidence Interval**:\n",
    "   - Using the point estimate (sample mean) and margin of error:\n",
    "     {Confidence Interval} = 175 \\pm 1.372 = (173.628, 176.372) { cm} \\]\n",
    "\n",
    "So, with 95% confidence, you can say that the true average height of adult males in the city is likely to fall within the range of 173.628 cm to 176.372 cm based on your sample data."
   ]
  },
  {
   "cell_type": "markdown",
   "id": "17284dbb",
   "metadata": {},
   "source": [
    "# Q6. Use Bayes' Theorem to calculate the probability of an event occurring given prior knowledge of the event's probability and new evidence. Provide a sample problem and solution."
   ]
  },
  {
   "cell_type": "markdown",
   "id": "0d57e07f",
   "metadata": {},
   "source": [
    "Bayes's theorem is a fundamental concept in probability theory and statistics that describes how to update the probability of a hypothesis based on new evidence. It provides a way to revise beliefs or probabilities as new information becomes available. The theorem is named after the Reverend Thomas Bayes, an 18th-century statistician and theologian.\n",
    "\n",
    "Bayes's theorem is typically stated as follows:\n",
    "\n",
    "P(A∣B) = P(B∣A)⋅P(A) / P(B)\n",
    "\n",
    "Where: P(A∣B) is the probability of event A occurring given that event B has occurred. P(B∣A) is the probability of event B occurring given that event A has occurred. P(A) is the prior probability of event A, which represents your initial belief in the probability of A before considering any new evidence. P(B) is the probability of event B occurring, which serves as a normalizing constant.\n",
    "\n",
    "Problem:\n",
    "Suppose we have a medical test for a rare disease, and the test is known to have a false positive rate of 5% (i.e., if you don't have the disease, there's a 5% chance the test will incorrectly say you do), and a false negative rate of 2% (i.e., if you have the disease, there's a 2% chance the test will incorrectly say you don't). We also know that the disease itself is quite rare, with only 1 in 1000 people having it. What is the probability that you have the disease if the test comes back positive?"
   ]
  },
  {
   "cell_type": "code",
   "execution_count": 1,
   "id": "971efa14",
   "metadata": {},
   "outputs": [
    {
     "name": "stdout",
     "output_type": "stream",
     "text": [
      "Probability of having the disease given a positive test result: 5.1068871480078036e-05\n"
     ]
    }
   ],
   "source": [
    "# Define the probabilities\n",
    "prior_probability_disease = 0.001  # Probability of having the disease\n",
    "false_positive_rate = 0.05  # Probability of a false positive\n",
    "false_negative_rate = 0.02  # Probability of a false negative\n",
    "\n",
    "# Calculate the probability of a positive test result (evidence B)\n",
    "# P(B) = P(B|A) * P(A) + P(B|¬A) * P(¬A)\n",
    "# P(¬A) is the probability of not having the disease, which is 1 - P(A)\n",
    "probability_positive_test = (false_positive_rate * prior_probability_disease) + ((1 - prior_probability_disease) * (1 - false_negative_rate))\n",
    "\n",
    "# Calculate the probability of having the disease given a positive test result (using Bayes' Theorem)\n",
    "# P(A|B) = P(B|A) * P(A) / P(B)\n",
    "probability_disease_given_positive_test = (false_positive_rate * prior_probability_disease) / probability_positive_test\n",
    "\n",
    "print(\"Probability of having the disease given a positive test result:\", probability_disease_given_positive_test)\n"
   ]
  },
  {
   "cell_type": "markdown",
   "id": "22d7d432",
   "metadata": {},
   "source": [
    "# Q7. Calculate the 95% confidence interval for a sample of data with a mean of 50 and a standard deviation of 5. Interpret the results."
   ]
  },
  {
   "cell_type": "code",
   "execution_count": 1,
   "id": "411658b4",
   "metadata": {},
   "outputs": [
    {
     "name": "stdout",
     "output_type": "stream",
     "text": [
      "95% Confidence Interval: (48.210805856282846, 51.789194143717154)\n"
     ]
    }
   ],
   "source": [
    "import scipy.stats as stats\n",
    "\n",
    "# Sample information\n",
    "sample_mean = 50\n",
    "sample_stddev = 5\n",
    "sample_size = 30 \n",
    "\n",
    "# Confidence level\n",
    "confidence_level = 0.95\n",
    "\n",
    "# Calculate the standard error (standard deviation of the sample mean)\n",
    "standard_error = sample_stddev / (sample_size ** 0.5)\n",
    "\n",
    "# Calculate the margin of error (critical value * standard error)\n",
    "critical_value = stats.norm.ppf((1 + confidence_level) / 2)  # Z-score for 95% confidence\n",
    "margin_of_error = critical_value * standard_error\n",
    "\n",
    "# Calculate the confidence interval\n",
    "confidence_interval = (sample_mean - margin_of_error, sample_mean + margin_of_error)\n",
    "\n",
    "print(\"95% Confidence Interval:\", confidence_interval)\n"
   ]
  },
  {
   "cell_type": "markdown",
   "id": "3a6651b4",
   "metadata": {},
   "source": [
    "# Q8. What is the margin of error in a confidence interval? How does sample size affect the margin of error? Provide an example of a scenario where a larger sample size would result in a smaller margin of error."
   ]
  },
  {
   "cell_type": "markdown",
   "id": "b61e2911",
   "metadata": {},
   "source": [
    "The margin of error (MOE) in a confidence interval is a measure of the precision of the estimate of a population parameter, such as the population mean. It quantifies the range around a point estimate (like the sample mean) within which you can reasonably expect the true population parameter to fall with a certain level of confidence.\n",
    "\n",
    "The formula for the margin of error in a confidence interval is typically:\n",
    "\n",
    "MOE=Z(σ/√n)\n",
    "\n",
    "Where:\n",
    "MOE is the margin of error.\n",
    "Z is the critical value associated with the chosen confidence level.\n",
    "σ is the standard deviation of the population (or the sample, in some cases).\n",
    "n is the sample size.\n",
    "\n",
    "The margin of error is directly affected by the sample size (n) and inversely affected by the confidence level. Here's how sample size affects the margin of error:\n",
    "\n",
    "1. Larger Sample Size (Greater (n): Increasing the sample size while keeping other factors constant will result in a smaller margin of error. This is because as the sample size grows, the standard error (σ/√n) becomes smaller, which means that the range around the point estimate becomes narrower, resulting in a more precise estimate.\n",
    "\n",
    "2. Smaller Sample Size (Smaller (n): Decreasing the sample size while keeping other factors constant will result in a larger margin of error. A smaller sample size leads to a larger standard error and a wider range of possible values around the point estimate, which means less precision.\n",
    "\n",
    "Example:\n",
    "Let's consider an example where sample size affects the margin of error. Suppose you want to estimate the average height of adult males in a city. You collect two samples, one with 100 individuals and another with 1,000 individuals. You want to calculate 95% confidence intervals for both samples.\n",
    "\n",
    "- For the sample of 100 individuals, the margin of error might be around 2 inches. This means that you can be 95% confident that the true average height of adult males in the city falls within 2 inches of your sample mean.\n",
    "\n",
    "- For the sample of 1,000 individuals, the margin of error might be around 0.6 inches. With a larger sample size, you have a more precise estimate, and you can be 95% confident that the true average height falls within a narrower range of 0.6 inches around your sample mean.\n",
    "\n",
    "In this scenario, the larger sample size (1,000) results in a smaller margin of error and a more precise estimate of the population parameter (average height)."
   ]
  },
  {
   "cell_type": "markdown",
   "id": "87dca4f0",
   "metadata": {},
   "source": [
    "# Q9. Calculate the z-score for a data point with a value of 75, a population mean of 70, and a population standard deviation of 5. Interpret the results."
   ]
  },
  {
   "cell_type": "code",
   "execution_count": 3,
   "id": "84682f5e",
   "metadata": {},
   "outputs": [
    {
     "name": "stdout",
     "output_type": "stream",
     "text": [
      "Z-Score: 1.0\n"
     ]
    }
   ],
   "source": [
    "# Given values\n",
    "data_point = 75\n",
    "population_mean = 70\n",
    "population_stddev = 5\n",
    "\n",
    "# Calculate the z-score\n",
    "z_score = (data_point - population_mean) / population_stddev\n",
    "\n",
    "print(\"Z-Score:\", z_score)\n"
   ]
  },
  {
   "cell_type": "markdown",
   "id": "5fcff41a",
   "metadata": {},
   "source": [
    "# Q10. In a study of the effectiveness of a new weight loss drug, a sample of 50 participants lost an average of 6 pounds with a standard deviation of 2.5 pounds. Conduct a hypothesis test to determine if the drug is significantly effective at a 95% confidence level using a t-test."
   ]
  },
  {
   "cell_type": "markdown",
   "id": "7ab9d2fa",
   "metadata": {},
   "source": [
    "Certainly, in short:\n",
    "\n",
    "- **Hypotheses:**\n",
    "  - Null Hypothesis H 0: The drug is not significantly effective (\\(\\mu \\leq 0\\)).\n",
    "  - Alternative Hypothesis H_1: The drug is significantly effective (\\(\\mu > 0\\)).\n",
    "\n",
    "- **Significance Level alpha:** 0.05 (95% confidence level).\n",
    "\n",
    "- **Data:**\n",
    "  - Sample Size (n\\): 50\n",
    "  - Sample Mean (bar(x)): 6 pounds\n",
    "  - Sample Standard Deviation (s): 2.5 pounds\n",
    "\n",
    "- **Analysis:**\n",
    "  - Calculate the t-statistic using the formula.\n",
    "  - Find the critical t-value for a one-tailed test (95% confidence level, 49 degrees of freedom).\n",
    "\n",
    "- **Decision:**\n",
    "  - If (t_statistic) > t_{critical}, reject(H_0).\n",
    "  - If (t_statistic) <=  t_{critical}, fail to reject(H_0).\n",
    "\n",
    "- **Conclusion:**\n",
    "  - If you reject H_0, conclude that the new weight loss drug is significantly effective at a 95% confidence level. If not, you do not have enough evidence to make that conclusion."
   ]
  },
  {
   "cell_type": "code",
   "execution_count": 5,
   "id": "b57e3c19",
   "metadata": {},
   "outputs": [
    {
     "name": "stdout",
     "output_type": "stream",
     "text": [
      "t-statistic: 16.970562748477143\n"
     ]
    }
   ],
   "source": [
    "import math\n",
    "\n",
    "# Given values\n",
    "sample_mean = 6\n",
    "population_mean_hypothesis = 0\n",
    "sample_stddev = 2.5\n",
    "sample_size = 50\n",
    "\n",
    "# Calculate the t-statistic\n",
    "t_statistic = (sample_mean - population_mean_hypothesis) / (sample_stddev / math.sqrt(sample_size))\n",
    "\n",
    "print(\"t-statistic:\", t_statistic)\n"
   ]
  },
  {
   "cell_type": "markdown",
   "id": "689ee133",
   "metadata": {},
   "source": [
    "# Q11. In a survey of 500 people, 65% reported being satisfied with their current job. Calculate the 95% confidence interval for the true proportion of people who are satisfied with their job."
   ]
  },
  {
   "cell_type": "code",
   "execution_count": 6,
   "id": "02b325cc",
   "metadata": {},
   "outputs": [
    {
     "name": "stdout",
     "output_type": "stream",
     "text": [
      "95% Confidence Interval: (0.6081925393809212, 0.6918074606190788)\n"
     ]
    }
   ],
   "source": [
    "import math\n",
    "\n",
    "# Given values\n",
    "sample_proportion = 0.65\n",
    "sample_size = 500\n",
    "confidence_level = 0.95\n",
    "\n",
    "# Calculate the standard error\n",
    "standard_error = math.sqrt((sample_proportion * (1 - sample_proportion)) / sample_size)\n",
    "\n",
    "# Calculate the margin of error (critical value * standard error)\n",
    "critical_value = stats.norm.ppf((1 + confidence_level) / 2)  # Z-score for 95% confidence\n",
    "margin_of_error = critical_value * standard_error\n",
    "\n",
    "# Calculate the confidence interval\n",
    "confidence_interval = (sample_proportion - margin_of_error, sample_proportion + margin_of_error)\n",
    "\n",
    "print(\"95% Confidence Interval:\", confidence_interval)\n"
   ]
  },
  {
   "cell_type": "markdown",
   "id": "8af00d27",
   "metadata": {},
   "source": [
    "# Q12. A researcher is testing the effectiveness of two different teaching methods on student performance. Sample A has a mean score of 85 with a standard deviation of 6, while sample B has a mean score of 82 with a standard deviation of 5. Conduct a hypothesis test to determine if the two teaching methods have a significant difference in student performance using a t-test with a significance level of 0.01."
   ]
  },
  {
   "cell_type": "code",
   "execution_count": 8,
   "id": "a1df8710",
   "metadata": {},
   "outputs": [
    {
     "name": "stdout",
     "output_type": "stream",
     "text": [
      "Fail to reject the null hypothesis: There is no significant difference in student performance between the two teaching methods.\n"
     ]
    }
   ],
   "source": [
    "import scipy.stats as stats\n",
    "\n",
    "# Sample A information\n",
    "mean_A = 85\n",
    "stddev_A = 6\n",
    "sample_size_A = 30  # Replace with the sample size for Sample A\n",
    "\n",
    "# Sample B information\n",
    "mean_B = 82\n",
    "stddev_B = 5\n",
    "sample_size_B = 35  # Replace with the sample size for Sample B\n",
    "\n",
    "# Significance level\n",
    "alpha = 0.01\n",
    "\n",
    "# Calculate the pooled standard error\n",
    "pooled_std_error = ((stddev_A**2 / sample_size_A) + (stddev_B**2 / sample_size_B))**0.5\n",
    "\n",
    "# Calculate the t-statistic\n",
    "t_statistic = (mean_A - mean_B) / pooled_std_error\n",
    "\n",
    "# Degrees of freedom\n",
    "degrees_of_freedom = sample_size_A + sample_size_B - 2\n",
    "\n",
    "# Calculate the critical t-value for a two-tailed test\n",
    "t_critical = stats.t.ppf(1 - alpha / 2, degrees_of_freedom)\n",
    "\n",
    "# Make a decision\n",
    "if abs(t_statistic) > t_critical:\n",
    "    # Reject the null hypothesis\n",
    "    print(\"Reject the null hypothesis: There is a significant difference in student performance between the two teaching methods.\")\n",
    "else:\n",
    "    # Fail to reject the null hypothesis\n",
    "    print(\"Fail to reject the null hypothesis: There is no significant difference in student performance between the two teaching methods.\")\n"
   ]
  },
  {
   "cell_type": "markdown",
   "id": "8c3c39ea",
   "metadata": {},
   "source": [
    "# Q13. A population has a mean of 60 and a standard deviation of 8. A sample of 50 observations has a mean of 65. Calculate the 90% confidence interval for the true population mean."
   ]
  },
  {
   "cell_type": "code",
   "execution_count": 9,
   "id": "02365a88",
   "metadata": {},
   "outputs": [
    {
     "name": "stdout",
     "output_type": "stream",
     "text": [
      "90% Confidence Interval: (63.13906055411732, 66.86093944588268)\n"
     ]
    }
   ],
   "source": [
    "import math\n",
    "\n",
    "# Given values\n",
    "sample_mean = 65\n",
    "population_stddev = 8\n",
    "sample_size = 50\n",
    "confidence_level = 0.90\n",
    "\n",
    "# Calculate the critical value (Z-score) for a one-tailed test\n",
    "critical_value = stats.norm.ppf(1 - (1 - confidence_level) / 2)\n",
    "\n",
    "# Calculate the standard error\n",
    "standard_error = population_stddev / math.sqrt(sample_size)\n",
    "\n",
    "# Calculate the margin of error (critical value * standard error)\n",
    "margin_of_error = critical_value * standard_error\n",
    "\n",
    "# Calculate the confidence interval\n",
    "confidence_interval = (sample_mean - margin_of_error, sample_mean + margin_of_error)\n",
    "\n",
    "print(\"90% Confidence Interval:\", confidence_interval)\n"
   ]
  },
  {
   "cell_type": "markdown",
   "id": "5e9a3fdb",
   "metadata": {},
   "source": [
    "# Q14. In a study of the effects of caffeine on reaction time, a sample of 30 participants had an average reaction time of 0.25 seconds with a standard deviation of 0.05 seconds. Conduct a hypothesis test to determine if the caffeine has a significant effect on reaction time at a 90% confidence level using a t-test."
   ]
  },
  {
   "cell_type": "code",
   "execution_count": 10,
   "id": "853799b7",
   "metadata": {},
   "outputs": [
    {
     "name": "stdout",
     "output_type": "stream",
     "text": [
      "Fail to reject the null hypothesis: Caffeine does not have a significant effect on reaction time.\n"
     ]
    }
   ],
   "source": [
    "import scipy.stats as stats\n",
    "\n",
    "# Given values\n",
    "sample_mean = 0.25  # Average reaction time\n",
    "sample_stddev = 0.05  # Standard deviation of reaction time\n",
    "sample_size = 30  # Sample size\n",
    "confidence_level = 0.90  # 90% confidence level\n",
    "\n",
    "# Null hypothesis\n",
    "null_hypothesis_mean = 0.25  # Population mean under the null hypothesis\n",
    "\n",
    "# Calculate the t-statistic\n",
    "t_statistic = (sample_mean - null_hypothesis_mean) / (sample_stddev / (sample_size ** 0.5))\n",
    "\n",
    "# Degrees of freedom\n",
    "degrees_of_freedom = sample_size - 1\n",
    "\n",
    "# Calculate the critical t-values for a two-tailed test\n",
    "t_critical_lower = stats.t.ppf((1 - confidence_level) / 2, degrees_of_freedom)\n",
    "t_critical_upper = -t_critical_lower  # For the other tail\n",
    "\n",
    "# Make a decision\n",
    "if t_statistic < t_critical_lower or t_statistic > t_critical_upper:\n",
    "    # Reject the null hypothesis\n",
    "    print(\"Reject the null hypothesis: Caffeine has a significant effect on reaction time.\")\n",
    "else:\n",
    "    # Fail to reject the null hypothesis\n",
    "    print(\"Fail to reject the null hypothesis: Caffeine does not have a significant effect on reaction time.\")\n"
   ]
  },
  {
   "cell_type": "code",
   "execution_count": null,
   "id": "10463100",
   "metadata": {},
   "outputs": [],
   "source": []
  }
 ],
 "metadata": {
  "kernelspec": {
   "display_name": "Python 3 (ipykernel)",
   "language": "python",
   "name": "python3"
  },
  "language_info": {
   "codemirror_mode": {
    "name": "ipython",
    "version": 3
   },
   "file_extension": ".py",
   "mimetype": "text/x-python",
   "name": "python",
   "nbconvert_exporter": "python",
   "pygments_lexer": "ipython3",
   "version": "3.11.4"
  }
 },
 "nbformat": 4,
 "nbformat_minor": 5
}
